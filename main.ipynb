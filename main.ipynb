{
 "cells": [
  {
   "cell_type": "code",
   "execution_count": null,
   "metadata": {},
   "outputs": [],
   "source": [
    "dataset = datasets.load_digits(as_frame=False)\n",
    "X = dataset.data\n",
    "Y = dataset.target\n",
    "X_train, X_test, y_train, y_test = train_test_split(X, Y, test_size=0.2, random_state=42)"
   ]
  },
  {
   "cell_type": "code",
   "execution_count": null,
   "metadata": {},
   "outputs": [],
   "source": [
    "print(y_train)"
   ]
  },
  {
   "cell_type": "code",
   "execution_count": null,
   "metadata": {},
   "outputs": [],
   "source": [
    "mlp = MLPClassifier([8*8, 20, 10])\n",
    "# # training_data, epochs = 1000, learning_rate = 0.0001, stopping_threshold = 1e-6, test_data = None\n",
    "# print([w.shape for w in mlp.biases])\n",
    "# print([b.shape for b in mlp.biases])\n",
    "mlp.train(zip(X_train, y_train), 2, test_data=zip(X_test, y_test))\n",
    "# example_biases = [np.random.randn(y, 1) for y in neurons_size[1:]]\n",
    "# neurons_size = [10, 20, 30]\n",
    "# example_biases = np.array(np.random.randn(1, y) for y in neurons_size[1:])\n",
    "# print(example_biases)\n"
   ]
  },
  {
   "cell_type": "code",
   "execution_count": null,
   "metadata": {},
   "outputs": [],
   "source": []
  },
  {
   "cell_type": "code",
   "execution_count": null,
   "metadata": {},
   "outputs": [],
   "source": [
    "neurons_size = [10, 20, 30]\n",
    "bias = [np.random.randn(y, 1) for y in neurons_size[1:]]\n",
    "for i, b in zip(range(len(bias)), bias):\n",
    "    print(f'{i} element:')\n",
    "    print(b)\n"
   ]
  },
  {
   "cell_type": "code",
   "execution_count": null,
   "metadata": {},
   "outputs": [],
   "source": [
    "from MLPClassifier import MLPClassifier\n",
    "import numpy as np\n",
    "from sklearn import datasets\n",
    "import random\n",
    "from sklearn.model_selection import train_test_split"
   ]
  },
  {
   "cell_type": "code",
   "execution_count": null,
   "metadata": {},
   "outputs": [],
   "source": []
  }
 ],
 "metadata": {
  "kernelspec": {
   "display_name": ".venv",
   "language": "python",
   "name": "python3"
  },
  "language_info": {
   "codemirror_mode": {
    "name": "ipython",
    "version": 3
   },
   "file_extension": ".py",
   "mimetype": "text/x-python",
   "name": "python",
   "nbconvert_exporter": "python",
   "pygments_lexer": "ipython3",
   "version": "3.10.12"
  }
 },
 "nbformat": 4,
 "nbformat_minor": 2
}
